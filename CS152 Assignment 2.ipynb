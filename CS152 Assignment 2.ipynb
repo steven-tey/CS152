{
 "cells": [
  {
   "cell_type": "markdown",
   "metadata": {},
   "source": [
    "<h1>CS152 Assignment 1: The 8-puzzle</h1>\n",
    "\n",
    "Before you turn in this assignment, make sure everything runs as expected. First, **restart the kernel** (in the menubar, select Kernel$\\rightarrow$Restart) and then run the test cells for each of the questions you have answered.  Note that a grade of 3 for the A* implementation requires all tests in the \"Basic Functionality\" section to be passed.  The test cells pass if they execute with no errors (i.e. all the assertions are passed).\n",
    "\n",
    "Make sure you fill in any place that says `YOUR CODE HERE`.  Be sure to remove the `raise NotImplementedError()` statements as you implement your code - these are simply there as a reminder if you forget to add code where it's needed."
   ]
  },
  {
   "cell_type": "markdown",
   "metadata": {},
   "source": [
    "---"
   ]
  },
  {
   "cell_type": "markdown",
   "metadata": {
    "deletable": false,
    "editable": false,
    "nbgrader": {
     "cell_type": "markdown",
     "checksum": "3582513581b2e5d1806ee2b1117ac019",
     "grade": false,
     "grade_id": "5bb4ce",
     "locked": true,
     "schema_version": 3,
     "solution": false
    }
   },
   "source": [
    "<h1>\n",
    "Question 1    \n",
    "</h1>\n",
    "Define your <code>PuzzleNode</code> class below.  Ensure that you include all attributes that you need to implement an A* search.  If you wish, you can even include member functions, such as a function to generate successor states.  Alternatively, you can code up this functionality later in the <code>solvePuzzle</code> function."
   ]
  },
  {
   "cell_type": "code",
   "execution_count": 1,
   "metadata": {
    "deletable": false,
    "nbgrader": {
     "cell_type": "code",
     "checksum": "4326143183f9b58edcedbc64aed31100",
     "grade": false,
     "grade_id": "b5da05",
     "locked": false,
     "schema_version": 3,
     "solution": true,
     "task": false
    }
   },
   "outputs": [],
   "source": [
    "# Import any packages you need here\n",
    "# Also define any variables as needed\n",
    "\n",
    "import numpy as np\n",
    "\n",
    "#Now, define the class PuzzleNode:\n",
    "class PuzzleNode:\n",
    "    \"\"\"\n",
    "    Class PuzzleNode: Provides a structure for performing A* search for the n^2-1 puzzle\n",
    "    \"\"\"\n",
    "    def __init__(self, state, g, h, parent):\n",
    "        self.state = state # list of lists representing the n x n puzzle\n",
    "        self.g = g # g(n), path cost from the start node to node n\n",
    "        self.h = h # h(n), estimated cost of the cheapest path from n to the goal\n",
    "        self.f = g + h # f(n) = g(n) + h(n), estimated cost of the cheapest solution through n\n",
    "        self.parent = parent # parent of current node, n\n",
    "        \n",
    "    def __lt__(self, other): # 'less than' function for comparision by PriorityQueue\n",
    "        return self.f < other.f"
   ]
  },
  {
   "cell_type": "markdown",
   "metadata": {
    "deletable": false,
    "editable": false,
    "nbgrader": {
     "cell_type": "markdown",
     "checksum": "f523db3048f85be39ef3dc740b53fdba",
     "grade": false,
     "grade_id": "859d2c",
     "locked": true,
     "schema_version": 3,
     "solution": false
    }
   },
   "source": [
    "<h1>\n",
    "Question 2    \n",
    "</h1>\n",
    "Define your heuristic functions using the templates below.  Ensure that you extend the <code>heuristics</code> list to include all the heuristic functions you implement.  Note that state will be given as a list of lists, so ensure your function accepts this format.  You may use packages like numpy if you wish within the functions themselves."
   ]
  },
  {
   "cell_type": "code",
   "execution_count": 2,
   "metadata": {
    "deletable": false,
    "nbgrader": {
     "cell_type": "code",
     "checksum": "686c6cabd6955171ad70aa6fd37d31a9",
     "grade": false,
     "grade_id": "3fb850",
     "locked": false,
     "schema_version": 3,
     "solution": true,
     "task": false
    }
   },
   "outputs": [],
   "source": [
    "# Add any additional code here (e.g. for the memoization extension)\n",
    "\n",
    "import numpy as np\n",
    "\n",
    "def memoize(f):\n",
    "    '''Code adapted from https://www.python-course.eu/python3_memoization.php'''\n",
    "    memo = {}\n",
    "    def wrapper(state, *args, **kwargs):\n",
    "        if str(state) not in memo:            \n",
    "            memo[str(state)] = f(state, *args, **kwargs)\n",
    "        return memo[str(state)]\n",
    "    return wrapper\n",
    "\n",
    "# Misplaced tiles heuristic\n",
    "@memoize\n",
    "def h1(state):\n",
    "    \"\"\"\n",
    "    This function returns the number of misplaced tiles, given the board state\n",
    "    Input:\n",
    "        -state: the board state as a list of lists\n",
    "    Output:\n",
    "        -h: the number of misplaced tiles\n",
    "    \"\"\"\n",
    "    n = len(state)\n",
    "    state = np.array(state)\n",
    "    goal_state = np.arange(n*n).reshape((n,n))\n",
    "    h = 0 # number of misplaced tiles\n",
    "    for i in range(n):\n",
    "        for j in range(n):\n",
    "            if state[i][j] != 0 and state[i][j] != goal_state[i][j]:\n",
    "                h += 1  # if the value in the state is different \n",
    "                        # from the goal state (ignoring empty tile), \n",
    "                        # the tile is misplaced\n",
    "    return h\n",
    "\n",
    "# Manhattan distance heuristic\n",
    "@memoize\n",
    "def h2(state):\n",
    "    \"\"\"\n",
    "    This function returns the Manhattan distance from the solved state, given the board state\n",
    "    Input:\n",
    "        -state: the board state as a list of lists\n",
    "    Output:\n",
    "        -h: the Manhattan distance from the solved configuration\n",
    "    \"\"\"\n",
    "    n = len(state)\n",
    "    state = np.array(state)\n",
    "    goal_state = np.arange(n*n).reshape((n,n))\n",
    "    pos_dict = {} # dictionary to store coordinates of the goal nodes\n",
    "    for i in range(n):\n",
    "        for j in range(n):\n",
    "            pos_dict[goal_state[i][j]] = (i,j)\n",
    "    h = 0 # Manhattan distance\n",
    "    for i in range(n):\n",
    "        for j in range(n): #if it's not the empty tile & states don't match\n",
    "            if state[i][j] != 0 and state[i][j] != goal_state[i][j]: \n",
    "                val = state[i][j] # value of the current node\n",
    "                h += (abs(pos_dict[val][0] - i) + abs(pos_dict[val][1] - j))\n",
    "    return h\n",
    "    \n",
    "    \n",
    "# Extra heuristic for the extension.  If implemented, modify the function below\n",
    "@memoize\n",
    "def h3(state):\n",
    "    \"\"\"\n",
    "    This function returns a heuristic that dominates the Manhattan distance, given the board state\n",
    "    Input:\n",
    "        -state: the board state as a list of lists\n",
    "    Output:\n",
    "        -h: the Heuristic distance of the state from its solved configuration\n",
    "    \"\"\"\n",
    "    # Note to professor: I tried various heuristics but none of them was better than the\n",
    "    # Manhattan distance heuristic 100% of the time so I decided to just leave this blank :(\n",
    "    return 0\n",
    "\n",
    "# If you implement more than 3 heuristics, then add any extra heuristic functions onto the end of this list.\n",
    "heuristics = [h1, h2, h3]"
   ]
  },
  {
   "cell_type": "markdown",
   "metadata": {
    "deletable": false,
    "editable": false,
    "nbgrader": {
     "cell_type": "markdown",
     "checksum": "591174c27300d0a4d4d96ee841e46810",
     "grade": false,
     "grade_id": "e224d9",
     "locked": true,
     "schema_version": 3,
     "solution": false
    }
   },
   "source": [
    "<h1>\n",
    "Question 3    \n",
    "</h1>\n",
    "Code up your A* search using the SolvePuzzle function within the template below.  Please do not modify the function header, otherwise the automated testing will fail.  You may define other functions or import packages as needed in this cell or by adding additional cells."
   ]
  },
  {
   "cell_type": "code",
   "execution_count": 3,
   "metadata": {
    "deletable": false,
    "nbgrader": {
     "cell_type": "code",
     "checksum": "91dda09c4f5df1db4607bb3b82e81afd",
     "grade": false,
     "grade_id": "328d7b",
     "locked": false,
     "schema_version": 3,
     "solution": true
    }
   },
   "outputs": [],
   "source": [
    "# Import any packages or define any helper functions you need here\n",
    "\n",
    "from queue import PriorityQueue\n",
    "\n",
    "def generateChildState(parent_state, direction):\n",
    "    \"\"\"This function generates all the possible child states for a given parent state.\n",
    "    Inputs:\n",
    "        -parent_state: The parent state as an array of list of lists\n",
    "        -direction: There are 4 possible directions, 'n', 's', 'e', 'w' (north, south, east, west).\n",
    "    Outputs:\n",
    "        -child_state: The resulting child state as an array of list of lists\n",
    "    \"\"\"\n",
    "    i,j = int(np.where(parent_state==0)[0]), int(np.where(parent_state==0)[1])\n",
    "    child_state = parent_state\n",
    "    \n",
    "    if direction == 'n' and i - 1 >= 0: # if the empty tile can go north\n",
    "        child_state[i,j], child_state[i-1,j] = parent_state[i-1,j], parent_state[i,j]\n",
    "    elif direction == 's' and i + 1 < len(parent_state): # if the empty tile can go south\n",
    "        child_state[i,j], child_state[i+1,j] = parent_state[i+1,j], parent_state[i,j] \n",
    "    elif direction == 'e' and j + 1 < len(parent_state): # if the empty tile can go east\n",
    "        child_state[i,j], child_state[i,j+1] = parent_state[i,j+1], parent_state[i,j]\n",
    "    elif direction == 'w' and j - 1 >= 0: # if the empty tile can go west\n",
    "        child_state[i,j], child_state[i,j-1] = parent_state[i,j-1], parent_state[i,j]\n",
    "    \n",
    "    return child_state\n",
    "\n",
    "# Main solvePuzzle function.\n",
    "def solvePuzzle(state, heuristic):\n",
    "    \"\"\"This function should solve the n**2-1 puzzle for any n > 2 (although it may take too long for n > 4)).\n",
    "    Inputs:\n",
    "        -state: The initial state of the puzzle as a list of lists\n",
    "        -heuristic: a handle to a heuristic function.  Will be one of those defined in Question 2.\n",
    "    Outputs:\n",
    "        -steps: The number of steps to optimally solve the puzzle (excluding the initial state)\n",
    "        -exp: The number of nodes expanded to reach the solution\n",
    "        -max_frontier: The maximum size of the frontier over the whole search\n",
    "        -opt_path: The optimal path as a list of list of lists.  That is, opt_path[:,:,i] should give a list of lists\n",
    "                    that represents the state of the board at the ith step of the solution.\n",
    "        -err: An error code.  If state is not of the appropriate size and dimension, return -1.  For the extention task,\n",
    "          if the state is not solvable, then return -2\n",
    "    \"\"\"\n",
    "    \n",
    "    '''CHECK FOR ERRORS IN STATE'''\n",
    "    # if state is not n*n or if there are duplicates in state, return error\n",
    "    n = len(state)\n",
    "    state_list = [val for row in state for val in row]\n",
    "    state_arr = np.array(state)\n",
    "    if state_arr.shape != (n,n) or len(state_list) != len(set(state_list)):\n",
    "        return 0,0,0,0,-1\n",
    "    \n",
    "    '''\n",
    "    CHECK IF PUZZLE IS SOLVABLE (adapted from \n",
    "    https://www.cs.princeton.edu/courses/archive/fall12/cos226/assignments/8puzzle.html)\n",
    "    '''\n",
    "    \n",
    "    # creating a duplicate of the list that doesn't include 0\n",
    "    state_list_without_zero = state_list[:] \n",
    "    state_list_without_zero.remove(0)\n",
    "    \n",
    "    # first scenario - inversions (when an entry is larger than any previous entries)\n",
    "    inversion_count = 0\n",
    "    for i in range(len(state_list_without_zero)):\n",
    "        for j in range(i + 1, len(state_list_without_zero)):\n",
    "            if state_list_without_zero[j] < state_list_without_zero[i]:\n",
    "                inversion_count += 1\n",
    "    # if board size is odd and number of inversions is odd, unsolvable\n",
    "    if n % 2 == 1 and inversion_count % 2 == 1: \n",
    "        return 0,0,0,0,-2\n",
    "    \n",
    "    # second scenario (only for puzzles that have an even shape - 2x2, 4x4, 6x6...) \n",
    "    # if the row number of the empty tile + inversion count is even, unsolvable\n",
    "    if n % 2 == 0 and state_list.index(0)//n + inversion_count % 2 == 0:\n",
    "        return 0,0,0,0,-2\n",
    "    \n",
    "    '''INITIALIZING ROOT NODE & OTHER VARIABLES'''\n",
    "    # root node's params - current state, 0 path cost, heuristic, no parent\n",
    "    root = PuzzleNode(state_arr, 0, heuristic(state), None)\n",
    "    n = len(state) # n is the length of the state\n",
    "    goal = np.arange(n*n).reshape((n,n)) # define goal state\n",
    "    steps = 0 \n",
    "    exp = 0\n",
    "    max_frontier = 1 \n",
    "    frontier = PriorityQueue()\n",
    "    frontier.put(root) # initialize frontier with root node\n",
    "    directions = ['n', 's', 'e', 'w'] # 4 different directions\n",
    "    states_dict = {str(state_list): 0} # dict that stores visited nodes + their g score\n",
    "    \n",
    "    '''ITERATE TILL FRONTIER IS EMPTY'''\n",
    "    while frontier.empty() == False: # while there are still nodes in the frontier\n",
    "        parent = frontier.get() # get node with lowest f value\n",
    "        exp += 1 # number of expanded nodes increases by 1\n",
    "        if (parent.state == goal).all(): # if puzzle is solved, break loop\n",
    "            break\n",
    "        for direction in directions:\n",
    "            child_state = generateChildState(np.array(parent.state), direction) # generate child state\n",
    "            if not np.array_equal(child_state, parent.state): # if the empty tile shifted\n",
    "                # initiate child node (note: g + 1 because path cost increases by 1)\n",
    "                child = PuzzleNode(child_state, parent.g + 1, heuristic(child_state), parent)\n",
    "                # convert child state into list in string format\n",
    "                child_state_list_str = str([val for row in child.state for val in row])\n",
    "                if child_state_list_str not in states_dict: # if child has not been visited\n",
    "                    states_dict[child_state_list_str] = child.g # add child to visited nodes dict\n",
    "                    frontier.put(child) # add child to frontier\n",
    "                    if frontier.qsize() > max_frontier: # update max frontier length accordingly\n",
    "                        max_frontier = frontier.qsize()\n",
    "    \n",
    "    '''DETERMINE STEP COST & OPTIMAL PATH'''\n",
    "    final_steps = parent.g # save the final steps before the following steps \n",
    "    opt_path = [parent.state.tolist()] # declare optimal path list\n",
    "    while parent.parent: # while the nodes still have parent nodes, keep iterating till root node\n",
    "        opt_path.append(parent.parent.state.tolist()) # add parent nodes to optimal path list\n",
    "        parent = parent.parent\n",
    "    opt_path.reverse() # reverse list to find proper path\n",
    "    \n",
    "    return final_steps, exp, max_frontier, opt_path, 0\n",
    "    "
   ]
  },
  {
   "cell_type": "markdown",
   "metadata": {
    "deletable": false,
    "editable": false,
    "nbgrader": {
     "cell_type": "markdown",
     "checksum": "93712bce8426499023ace13735ea998d",
     "grade": false,
     "grade_id": "cell-3fc6e687e03655a1",
     "locked": true,
     "schema_version": 3,
     "solution": false,
     "task": false
    }
   },
   "source": [
    "<h1>Extension Questions</h1>\n",
    "\n",
    "The extensions can be implemented by modifying the code from Q2-3 above appropriately.\n",
    "\n",
    "1. <b>Initial state solvability:</b>  Modify your SolvePuzzle function code in Q3 to return -2 if an initial state is not solvable to the goal state.\n",
    "2. <b>Extra heuristic function:</b> Add another heuristic function (e.g. pattern database) that dominates the misplaced tiles and Manhattan distance heuristics to your Q2 code.\n",
    "3. <b>Memoization:</b>  Modify your heuristic function definitions in Q2 by using a Python decorator to speed up heuristic function evaluation\n",
    "\n",
    "There are test cells provided for extension questions 1 and 2."
   ]
  },
  {
   "cell_type": "markdown",
   "metadata": {
    "deletable": false,
    "editable": false,
    "nbgrader": {
     "cell_type": "markdown",
     "checksum": "c89ea5c4d80cc73d321b4d15a043e8b7",
     "grade": false,
     "grade_id": "fb9ccd",
     "locked": true,
     "schema_version": 3,
     "solution": false
    }
   },
   "source": [
    "<h1>Basic Functionality Tests</h1>\n",
    "The cells below contain tests to verify that your code is working properly to be classified as basically functional.  Please note that a grade of <b>3</b> on #aicoding and #search as applicable for each test requires the test to be successfully passed.  <b>If you want to demonstrate some other aspect of your code, then feel free to add additional cells with test code and document what they do.<b>"
   ]
  },
  {
   "cell_type": "code",
   "execution_count": 4,
   "metadata": {
    "deletable": false,
    "editable": false,
    "nbgrader": {
     "cell_type": "code",
     "checksum": "f8d927b41dc95f7b76d81ed7f6cd13ec",
     "grade": true,
     "grade_id": "8fbc24",
     "locked": true,
     "points": 1,
     "schema_version": 3,
     "solution": false
    }
   },
   "outputs": [],
   "source": [
    "## Test for state not correctly defined\n",
    "\n",
    "incorrect_state = [[0,1,2],[2,3,4],[5,6,7]]\n",
    "_,_,_,_,err = solvePuzzle(incorrect_state, lambda state: 0)\n",
    "assert(err == -1)"
   ]
  },
  {
   "cell_type": "code",
   "execution_count": 5,
   "metadata": {
    "deletable": false,
    "editable": false,
    "nbgrader": {
     "cell_type": "code",
     "checksum": "005a7a99916dafeb7180172c66365597",
     "grade": true,
     "grade_id": "cell-5738a2124877e52e",
     "locked": true,
     "points": 2,
     "schema_version": 3,
     "solution": false,
     "task": false
    }
   },
   "outputs": [],
   "source": [
    "## Heuristic function tests for misplaced tiles and manhattan distance\n",
    "\n",
    "# Define the working initial states\n",
    "working_initial_states_8_puzzle = ([[2,3,7],[1,8,0],[6,5,4]], [[7,0,8],[4,6,1],[5,3,2]], [[5,7,6],[2,4,3],[8,1,0]])\n",
    "\n",
    "# Test the values returned by the heuristic functions\n",
    "h_mt_vals = [7,8,7]\n",
    "h_man_vals = [15,17,18]\n",
    "\n",
    "for i in range(0,3):\n",
    "    h_mt = heuristics[0](working_initial_states_8_puzzle[i])\n",
    "    h_man = heuristics[1](working_initial_states_8_puzzle[i])\n",
    "    assert(h_mt == h_mt_vals[i])\n",
    "    assert(h_man == h_man_vals[i])\n"
   ]
  },
  {
   "cell_type": "code",
   "execution_count": 6,
   "metadata": {
    "deletable": false,
    "editable": false,
    "nbgrader": {
     "cell_type": "code",
     "checksum": "293094319e63d67c5f6d94cd7aee0c02",
     "grade": true,
     "grade_id": "cell-99c07d9541559b52",
     "locked": true,
     "points": 4,
     "schema_version": 3,
     "solution": false,
     "task": false
    }
   },
   "outputs": [],
   "source": [
    "## A* Tests for 3 x 3 boards\n",
    "## This test runs A* with both heuristics and ensures that the same optimal number of steps are found\n",
    "## with each heuristic.\n",
    "\n",
    "# Optimal path to the solution for the first 3 x 3 state\n",
    "opt_path_soln = [[[2, 3, 7], [1, 8, 0], [6, 5, 4]], [[2, 3, 7], [1, 8, 4], [6, 5, 0]], \n",
    "                 [[2, 3, 7], [1, 8, 4], [6, 0, 5]], [[2, 3, 7], [1, 0, 4], [6, 8, 5]], \n",
    "                 [[2, 0, 7], [1, 3, 4], [6, 8, 5]], [[0, 2, 7], [1, 3, 4], [6, 8, 5]], \n",
    "                 [[1, 2, 7], [0, 3, 4], [6, 8, 5]], [[1, 2, 7], [3, 0, 4], [6, 8, 5]], \n",
    "                 [[1, 2, 7], [3, 4, 0], [6, 8, 5]], [[1, 2, 0], [3, 4, 7], [6, 8, 5]], \n",
    "                 [[1, 0, 2], [3, 4, 7], [6, 8, 5]], [[1, 4, 2], [3, 0, 7], [6, 8, 5]], \n",
    "                 [[1, 4, 2], [3, 7, 0], [6, 8, 5]], [[1, 4, 2], [3, 7, 5], [6, 8, 0]], \n",
    "                 [[1, 4, 2], [3, 7, 5], [6, 0, 8]], [[1, 4, 2], [3, 0, 5], [6, 7, 8]], \n",
    "                 [[1, 0, 2], [3, 4, 5], [6, 7, 8]], [[0, 1, 2], [3, 4, 5], [6, 7, 8]]]\n",
    "\n",
    "astar_steps = [17, 25, 28]\n",
    "for i in range(0,3):\n",
    "    steps_mt, expansions_mt, _, opt_path_mt, _ = solvePuzzle(working_initial_states_8_puzzle[i], heuristics[0])\n",
    "    steps_man, expansions_man, _, opt_path_man, _ = solvePuzzle(working_initial_states_8_puzzle[i], heuristics[1])\n",
    "    # Test whether the number of optimal steps is correct and the same\n",
    "    assert(steps_mt == steps_man == astar_steps[i])\n",
    "    # Test whether or not the manhattan distance dominates the misplaced tiles heuristic in every case\n",
    "    assert(expansions_man < expansions_mt)\n",
    "    # For the first state, test that the optimal path is the same\n",
    "    if i == 0:\n",
    "        assert(opt_path_mt == opt_path_soln)\n"
   ]
  },
  {
   "cell_type": "code",
   "execution_count": 7,
   "metadata": {
    "deletable": false,
    "editable": false,
    "nbgrader": {
     "cell_type": "code",
     "checksum": "94ad7f950f87fcc281af1f3946c4e196",
     "grade": true,
     "grade_id": "cell-2981ba2cc7745c22",
     "locked": true,
     "points": 8,
     "schema_version": 3,
     "solution": false,
     "task": false
    }
   },
   "outputs": [],
   "source": [
    "## A* Test for 4 x 4 board\n",
    "## This test runs A* with both heuristics and ensures that the same optimal number of steps are found\n",
    "## with each heuristic.\n",
    "\n",
    "working_initial_state_15_puzzle = [[1,2,6,3],[0,9,5,7],[4,13,10,11],[8,12,14,15]]\n",
    "steps_mt, expansions_mt, _, _, _ = solvePuzzle(working_initial_state_15_puzzle, heuristics[0])\n",
    "steps_man, expansions_man, _, _, _ = solvePuzzle(working_initial_state_15_puzzle, heuristics[1])\n",
    "# Test whether the number of optimal steps is correct and the same\n",
    "assert(steps_mt == steps_man == 9)\n",
    "# Test whether or not the manhattan distance dominates the misplaced tiles heuristic in every case\n",
    "assert(expansions_mt >= expansions_man)"
   ]
  },
  {
   "cell_type": "markdown",
   "metadata": {
    "deletable": false,
    "editable": false,
    "nbgrader": {
     "cell_type": "markdown",
     "checksum": "7251e4aad7b1e19b42a78e54d8e7b920",
     "grade": false,
     "grade_id": "cell-2c262efb90518641",
     "locked": true,
     "schema_version": 3,
     "solution": false,
     "task": false
    }
   },
   "source": [
    "<h1>Extension Tests</h1>\n",
    "The cells below can be used to test the extension questions.  Memoization if implemented will be tested on the final submission - you can test it yourself by testing the execution time of the heuristic functions with and without it."
   ]
  },
  {
   "cell_type": "code",
   "execution_count": 8,
   "metadata": {
    "deletable": false,
    "editable": false,
    "nbgrader": {
     "cell_type": "code",
     "checksum": "efc4b74c95e814a4fb07d2c5ed26f337",
     "grade": true,
     "grade_id": "cell-21cada9978e9a1bb",
     "locked": true,
     "points": 16,
     "schema_version": 3,
     "solution": false,
     "task": false
    }
   },
   "outputs": [],
   "source": [
    "## Puzzle solvability test\n",
    "\n",
    "unsolvable_initial_state = [[7,5,6],[2,4,3],[8,1,0]]\n",
    "_,_,_,_,err = solvePuzzle(unsolvable_initial_state, lambda state: 0)\n",
    "assert(err == -2)"
   ]
  },
  {
   "cell_type": "code",
   "execution_count": null,
   "metadata": {
    "deletable": false,
    "editable": false,
    "nbgrader": {
     "cell_type": "code",
     "checksum": "9b7ebb02bcf675ab3a5157eaa1155763",
     "grade": true,
     "grade_id": "cell-8c7a414efc152379",
     "locked": true,
     "points": 32,
     "schema_version": 3,
     "solution": false,
     "task": false
    }
   },
   "outputs": [],
   "source": [
    "## Extra heuristic function test.  \n",
    "## This tests that for all initial conditions, the new heuristic dominates over the manhattan distance.\n",
    "\n",
    "dom = 0\n",
    "for i in range(0,3):\n",
    "    steps_new, expansions_new, _, _, _ = solvePuzzle(working_initial_states_8_puzzle[i], heuristics[2])\n",
    "    steps_man, expansions_man, _, _, _ = solvePuzzle(working_initial_states_8_puzzle[i], heuristics[1])\n",
    "    # Test whether the number of optimal steps is correct and the same\n",
    "    assert(steps_new == steps_man == astar_steps[i])\n",
    "    # Test whether or not the manhattan distance is dominated by the new heuristic in every case, by checking\n",
    "    # the number of nodes expanded\n",
    "    dom = expansions_man - expansions_new\n",
    "assert(dom > 0)"
   ]
  },
  {
   "cell_type": "code",
   "execution_count": null,
   "metadata": {
    "deletable": false,
    "editable": false,
    "nbgrader": {
     "cell_type": "code",
     "checksum": "af551e00bc8334100b7cf901ece597a2",
     "grade": true,
     "grade_id": "cell-09f710b6aa2e3fa3",
     "locked": true,
     "points": 64,
     "schema_version": 3,
     "solution": false,
     "task": false
    }
   },
   "outputs": [],
   "source": [
    "## Memoization test - will be carried out after submission"
   ]
  }
 ],
 "metadata": {
  "kernelspec": {
   "display_name": "Python 3",
   "language": "python",
   "name": "python3"
  },
  "language_info": {
   "codemirror_mode": {
    "name": "ipython",
    "version": 3
   },
   "file_extension": ".py",
   "mimetype": "text/x-python",
   "name": "python",
   "nbconvert_exporter": "python",
   "pygments_lexer": "ipython3",
   "version": "3.7.3"
  }
 },
 "nbformat": 4,
 "nbformat_minor": 1
}
